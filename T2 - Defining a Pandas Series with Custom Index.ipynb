{
 "cells": [
  {
   "cell_type": "code",
   "execution_count": 1,
   "id": "58cf3c14",
   "metadata": {},
   "outputs": [],
   "source": [
    "# TASK 2 - Defining a Pandas Series with Custom Index"
   ]
  },
  {
   "cell_type": "code",
   "execution_count": 2,
   "id": "3775a8bd",
   "metadata": {},
   "outputs": [],
   "source": [
    "import pandas as pd"
   ]
  },
  {
   "cell_type": "code",
   "execution_count": 3,
   "id": "dbdff91b",
   "metadata": {},
   "outputs": [
    {
     "data": {
      "text/plain": [
       "['BTC', 'XRP', 'LTC', 'ADA', 'ETH']"
      ]
     },
     "execution_count": 3,
     "metadata": {},
     "output_type": "execute_result"
    }
   ],
   "source": [
    "# Defining a Python List of 5 Crypto Currencies\n",
    "crypto_list = ['BTC', 'XRP', 'LTC','ADA', 'ETH']\n",
    "crypto_list"
   ]
  },
  {
   "cell_type": "code",
   "execution_count": 4,
   "id": "38f034bf",
   "metadata": {},
   "outputs": [
    {
     "data": {
      "text/plain": [
       "['Crypto#1', 'Crypto#2', 'Crypto#3', 'Crypto#4', 'Crypto#5']"
      ]
     },
     "execution_count": 4,
     "metadata": {},
     "output_type": "execute_result"
    }
   ],
   "source": [
    "# This following Python list will be used for the Series Index\n",
    "crypto_labels = ['Crypto#1', 'Crypto#2', 'Crypto#3', 'Crypto#4', 'Crypto#5']\n",
    "crypto_labels"
   ]
  },
  {
   "cell_type": "code",
   "execution_count": 6,
   "id": "df4b6143",
   "metadata": {},
   "outputs": [
    {
     "data": {
      "text/plain": [
       "Crypto#1    BTC\n",
       "Crypto#2    XRP\n",
       "Crypto#3    LTC\n",
       "Crypto#4    ADA\n",
       "Crypto#5    ETH\n",
       "dtype: object"
      ]
     },
     "execution_count": 6,
     "metadata": {},
     "output_type": "execute_result"
    }
   ],
   "source": [
    "# Creating a One-Dimensional Pandas Series with Pandas Constructor Method\n",
    "crypto_series = pd.Series(data = crypto_list, index = crypto_labels)\n",
    "crypto_series"
   ]
  },
  {
   "cell_type": "code",
   "execution_count": 7,
   "id": "ec3a91fa",
   "metadata": {},
   "outputs": [
    {
     "data": {
      "text/plain": [
       "pandas.core.series.Series"
      ]
     },
     "execution_count": 7,
     "metadata": {},
     "output_type": "execute_result"
    }
   ],
   "source": [
    "# Finding the Datatype\n",
    "type(crypto_series)"
   ]
  },
  {
   "cell_type": "code",
   "execution_count": null,
   "id": "714b10e8",
   "metadata": {},
   "outputs": [],
   "source": []
  }
 ],
 "metadata": {
  "kernelspec": {
   "display_name": "Python 3 (ipykernel)",
   "language": "python",
   "name": "python3"
  },
  "language_info": {
   "codemirror_mode": {
    "name": "ipython",
    "version": 3
   },
   "file_extension": ".py",
   "mimetype": "text/x-python",
   "name": "python",
   "nbconvert_exporter": "python",
   "pygments_lexer": "ipython3",
   "version": "3.10.9"
  }
 },
 "nbformat": 4,
 "nbformat_minor": 5
}
