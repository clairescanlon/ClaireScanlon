import requests
from bs4 import BeautifulSoup
import csv
import smtplib
from email.message import EmailMessage
import schedule
import time

def get_url(position, location):
  """Generate LinkedIn url from search terms"""
  template = "https://www.linkedin.com/jobs/search/?keywords={}&location={}"
  return template.format(position, location)

def extract_postings(page):
  """Extract all job posting elements from search results"""
  soup = BeautifulSoup(page, "html.parser")
  return soup.find_all("div", {"class": "base-search-card"})

def parse_posting(posting):
  """Extract data from a single job posting"""
  title = posting.find("h3").text.strip()
  company = posting.find("h4").text.strip()
  location = posting.find("span", {"class":"job-search-card__location"}).text.strip()
  
  # Extract additional details (optional)
  try:
      salary = posting.find("span", {"class": "job-search-card__salary-info"}).text.strip()
  except AttributeError:
      salary = "Not specified"
  try:
      description_element = posting.find("div", {"class": "job-search-card__snippet"})
      description = description_element.text.strip() if description_element else "No description available"
  except AttributeError:
      description = "No description available"

  return {
    "title": title,
    "company": company,
    "location": location,
    "salary": salary,
    "description": description  # Add description to the returned data
  }

def send_email(files):
  """Send email with attached CSV files"""
  msg = EmailMessage()
  msg['Subject'] = 'Web Scraped Job Postings Data'
  msg['From'] = 'your_email@gmail.com'  # Replace with your email
  msg['To'] = 'recipient_email@gmail.com'  # Replace with recipient's email

  for file in files:
    try:
      with open(file, 'rb') as f:
        file_data = f.read()
        msg.add_attachment(file_data, maintype='application', subtype='octet-stream', filename=file)
    except FileNotFoundError:
      print(f"Warning: File '{file}' not found.")

  try:
    with smtplib.SMTP_SSL('smtp.gmail.com', 465) as smtp:
      smtp.login('your_email@gmail.com', 'your_email_password')  # Replace with your credentials
      smtp.send_message(msg)
    print("Email sent successfully!")
  except Exception as e:
    print(f"Error sending email: {e}")

def main():
  positions = ["data analyst", "data analysis"]
  locations = ["Connecticut", "Remote"]

  files_to_send = []  # List to store file names for sending

  for position in positions:
    for location in locations:
      url = get_url(position, location)
      try:
        page = requests.get(url)
        page.raise_for_status()  # Check for HTTP errors
        postings = extract_postings(page.text)
        jobs = [parse_posting(post) for post in postings]

        file_name = f"{position}_{location}_jobs.csv"
        with open(file_name, mode="w", newline='', encoding='utf-8') as f:
          writer = csv.DictWriter(f, fieldnames=jobs[0].keys())
          writer.writeheader()
          writer.writerows(jobs)
        files_to_send.append(file_name)  # Add file to the list
      except requests.exceptions.RequestException as e:
        print(f"Error fetching data for {position} in {location}: {e}")

  # Send email with all generated files
  if files_to_send:
    send_email(files_to_send)

# Schedule the job (optional)
schedule.every().day.at("10:30").do(main)

while True:
  schedule.run_pending()
  time.sleep(1)
